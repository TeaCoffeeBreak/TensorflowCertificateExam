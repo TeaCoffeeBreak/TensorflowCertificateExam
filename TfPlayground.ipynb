{
  "nbformat": 4,
  "nbformat_minor": 0,
  "metadata": {
    "colab": {
      "name": "TfPlayground.ipynb",
      "provenance": [],
      "collapsed_sections": []
    },
    "kernelspec": {
      "name": "python3",
      "display_name": "Python 3"
    }
  },
  "cells": [
    {
      "cell_type": "code",
      "metadata": {
        "id": "_OEZc8dwo8G_",
        "colab_type": "code",
        "colab": {}
      },
      "source": [
        "hi=1"
      ],
      "execution_count": 1,
      "outputs": []
    }
  ]
}